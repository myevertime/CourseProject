{
 "cells": [
  {
   "cell_type": "code",
   "execution_count": 1,
   "metadata": {},
   "outputs": [],
   "source": [
    "### This code file is for preprocessing output.csv\n",
    "import pandas as pd\n",
    "data = pd.read_csv(\"output.csv\")"
   ]
  },
  {
   "cell_type": "code",
   "execution_count": 2,
   "metadata": {},
   "outputs": [
    {
     "name": "stderr",
     "output_type": "stream",
     "text": [
      "/var/folders/cf/cnmq422d2v12xhbp0nfhkcx1jskpkw/T/ipykernel_65427/3648342758.py:2: SettingWithCopyWarning: \n",
      "A value is trying to be set on a copy of a slice from a DataFrame.\n",
      "Try using .loc[row_indexer,col_indexer] = value instead\n",
      "\n",
      "See the caveats in the documentation: https://pandas.pydata.org/pandas-docs/stable/user_guide/indexing.html#returning-a-view-versus-a-copy\n",
      "  candidate['genres_tmp'] = candidate['genres'].str.split('|').str[0]\n"
     ]
    }
   ],
   "source": [
    "candidate = data[['movieId', 'imdbId', 'tmdbId', 'title', 'genres','actors','director']] # extract only usable columns for result page\n",
    "candidate['genres_tmp'] = candidate['genres'].str.split('|').str[0]\n",
    "candidate['director_tmp'] = candidate['director'].str.split('|').str[0]\n",
    "candidate['actors_tmp1'] = candidate['actors'].str.split('|').str[0]\n",
    "candidate['actors_tmp2'] = candidate['actors'].str.split('|').str[1]\n",
    "candidate['actors_tmp3'] = candidate['actors'].str.split('|').str[2]"
   ]
  },
  {
   "cell_type": "code",
   "execution_count": 3,
   "metadata": {},
   "outputs": [],
   "source": [
    "result = candidate.drop(['genres','actors','director'], axis=1)\n",
    "result['actors'] = result[['actors_tmp1', 'actors_tmp2', 'actors_tmp3']].stack().groupby(level=0).agg(', '.join)\n",
    "result.rename(columns={'genres_tmp':'genres','director_tmp':'director'},inplace=True)\n",
    "result.drop(['actors_tmp1', 'actors_tmp2', 'actors_tmp3'], axis=1, inplace=True)"
   ]
  },
  {
   "cell_type": "code",
   "execution_count": 4,
   "metadata": {},
   "outputs": [],
   "source": [
    "result['title'] = result['title'].fillna('')\n",
    "result['genres'] = result['genres'].fillna('')\n",
    "result['actors'] = result['actors'].fillna('')\n",
    "result['director'] = result['director'].fillna('')"
   ]
  },
  {
   "cell_type": "code",
   "execution_count": 5,
   "metadata": {},
   "outputs": [
    {
     "data": {
      "text/html": [
       "<div>\n",
       "<style scoped>\n",
       "    .dataframe tbody tr th:only-of-type {\n",
       "        vertical-align: middle;\n",
       "    }\n",
       "\n",
       "    .dataframe tbody tr th {\n",
       "        vertical-align: top;\n",
       "    }\n",
       "\n",
       "    .dataframe thead th {\n",
       "        text-align: right;\n",
       "    }\n",
       "</style>\n",
       "<table border=\"1\" class=\"dataframe\">\n",
       "  <thead>\n",
       "    <tr style=\"text-align: right;\">\n",
       "      <th></th>\n",
       "      <th>movieId</th>\n",
       "      <th>imdbId</th>\n",
       "      <th>tmdbId</th>\n",
       "      <th>title</th>\n",
       "      <th>genres</th>\n",
       "      <th>director</th>\n",
       "      <th>actors</th>\n",
       "    </tr>\n",
       "  </thead>\n",
       "  <tbody>\n",
       "    <tr>\n",
       "      <th>8457</th>\n",
       "      <td>27738</td>\n",
       "      <td>351167</td>\n",
       "      <td>15990</td>\n",
       "      <td>Cathedral, The (Katedra) (2002)</td>\n",
       "      <td>Animation</td>\n",
       "      <td>Tomek Baginski</td>\n",
       "      <td></td>\n",
       "    </tr>\n",
       "    <tr>\n",
       "      <th>30498</th>\n",
       "      <td>142723</td>\n",
       "      <td>49684</td>\n",
       "      <td>23393</td>\n",
       "      <td>Rock Rock Rock! (1956)</td>\n",
       "      <td></td>\n",
       "      <td>Max Rosenberg</td>\n",
       "      <td>Alan Freed, Fran Manfred, Tuesday Weld</td>\n",
       "    </tr>\n",
       "    <tr>\n",
       "      <th>35936</th>\n",
       "      <td>155948</td>\n",
       "      <td>79376</td>\n",
       "      <td>174765</td>\n",
       "      <td>The Proud Twins (1979)</td>\n",
       "      <td>Action</td>\n",
       "      <td>Run Run Shaw</td>\n",
       "      <td>Alexander Fu Sheng, Ng Wai-Kwok, Wong Yung</td>\n",
       "    </tr>\n",
       "    <tr>\n",
       "      <th>22034</th>\n",
       "      <td>121650</td>\n",
       "      <td>198371</td>\n",
       "      <td>257925</td>\n",
       "      <td>The Loyal 47 Ronin (1958)</td>\n",
       "      <td>Drama</td>\n",
       "      <td>Kunio Watanabe</td>\n",
       "      <td>Kazuo Hasegawa, Fujiko Yamamoto, Michiyo Kogure</td>\n",
       "    </tr>\n",
       "    <tr>\n",
       "      <th>46654</th>\n",
       "      <td>180171</td>\n",
       "      <td>296682</td>\n",
       "      <td>111147</td>\n",
       "      <td>The Incredible Mrs. Ritchie (2004)</td>\n",
       "      <td>Children</td>\n",
       "      <td>Eddie Hamilton</td>\n",
       "      <td>Gena Rowlands, Kevin Zegers, David Schofield</td>\n",
       "    </tr>\n",
       "    <tr>\n",
       "      <th>23640</th>\n",
       "      <td>125251</td>\n",
       "      <td>34370</td>\n",
       "      <td>94565</td>\n",
       "      <td>The Wagons Roll at Night (1941)</td>\n",
       "      <td>Drama</td>\n",
       "      <td>Perc Westmore</td>\n",
       "      <td>Humphrey Bogart, Sylvia Sidney, Eddie Albert</td>\n",
       "    </tr>\n",
       "    <tr>\n",
       "      <th>36750</th>\n",
       "      <td>157915</td>\n",
       "      <td>57380</td>\n",
       "      <td>9547</td>\n",
       "      <td>Old Shatterhand (1964)</td>\n",
       "      <td>Adventure</td>\n",
       "      <td>Hugo Fregonese</td>\n",
       "      <td>Lex Barker, Guy Madison, Pierre Brice</td>\n",
       "    </tr>\n",
       "    <tr>\n",
       "      <th>34045</th>\n",
       "      <td>151543</td>\n",
       "      <td>2362062</td>\n",
       "      <td>255575</td>\n",
       "      <td>Parviz (2012)</td>\n",
       "      <td></td>\n",
       "      <td>Majid Barzegar</td>\n",
       "      <td>Levon Haftvan</td>\n",
       "    </tr>\n",
       "    <tr>\n",
       "      <th>33739</th>\n",
       "      <td>150724</td>\n",
       "      <td>3951298</td>\n",
       "      <td>377206</td>\n",
       "      <td>Army Dog (2016)</td>\n",
       "      <td></td>\n",
       "      <td>Ezra Kemp</td>\n",
       "      <td>Casper Van Dien, Grace Van Dien, Stelio Savante</td>\n",
       "    </tr>\n",
       "    <tr>\n",
       "      <th>23217</th>\n",
       "      <td>124340</td>\n",
       "      <td>1332119</td>\n",
       "      <td>43954</td>\n",
       "      <td>Shoot the Hero (2010)</td>\n",
       "      <td>Action</td>\n",
       "      <td>Christian Sesma</td>\n",
       "      <td>Samantha Lockwood, Danny Trejo, Mike Hatton</td>\n",
       "    </tr>\n",
       "  </tbody>\n",
       "</table>\n",
       "</div>"
      ],
      "text/plain": [
       "       movieId   imdbId  tmdbId                               title  \\\n",
       "8457     27738   351167   15990     Cathedral, The (Katedra) (2002)   \n",
       "30498   142723    49684   23393              Rock Rock Rock! (1956)   \n",
       "35936   155948    79376  174765              The Proud Twins (1979)   \n",
       "22034   121650   198371  257925           The Loyal 47 Ronin (1958)   \n",
       "46654   180171   296682  111147  The Incredible Mrs. Ritchie (2004)   \n",
       "23640   125251    34370   94565     The Wagons Roll at Night (1941)   \n",
       "36750   157915    57380    9547              Old Shatterhand (1964)   \n",
       "34045   151543  2362062  255575                       Parviz (2012)   \n",
       "33739   150724  3951298  377206                     Army Dog (2016)   \n",
       "23217   124340  1332119   43954               Shoot the Hero (2010)   \n",
       "\n",
       "          genres         director  \\\n",
       "8457   Animation   Tomek Baginski   \n",
       "30498               Max Rosenberg   \n",
       "35936     Action     Run Run Shaw   \n",
       "22034      Drama   Kunio Watanabe   \n",
       "46654   Children   Eddie Hamilton   \n",
       "23640      Drama    Perc Westmore   \n",
       "36750  Adventure   Hugo Fregonese   \n",
       "34045              Majid Barzegar   \n",
       "33739                   Ezra Kemp   \n",
       "23217     Action  Christian Sesma   \n",
       "\n",
       "                                                actors  \n",
       "8457                                                    \n",
       "30498           Alan Freed, Fran Manfred, Tuesday Weld  \n",
       "35936       Alexander Fu Sheng, Ng Wai-Kwok, Wong Yung  \n",
       "22034  Kazuo Hasegawa, Fujiko Yamamoto, Michiyo Kogure  \n",
       "46654     Gena Rowlands, Kevin Zegers, David Schofield  \n",
       "23640     Humphrey Bogart, Sylvia Sidney, Eddie Albert  \n",
       "36750            Lex Barker, Guy Madison, Pierre Brice  \n",
       "34045                                    Levon Haftvan  \n",
       "33739  Casper Van Dien, Grace Van Dien, Stelio Savante  \n",
       "23217      Samantha Lockwood, Danny Trejo, Mike Hatton  "
      ]
     },
     "execution_count": 5,
     "metadata": {},
     "output_type": "execute_result"
    }
   ],
   "source": [
    "result.sample(10)"
   ]
  },
  {
   "cell_type": "code",
   "execution_count": 6,
   "metadata": {},
   "outputs": [],
   "source": [
    "result.to_csv(\"output_rendered.csv\")"
   ]
  },
  {
   "cell_type": "code",
   "execution_count": 7,
   "metadata": {},
   "outputs": [
    {
     "data": {
      "text/plain": [
       "2"
      ]
     },
     "execution_count": 7,
     "metadata": {},
     "output_type": "execute_result"
    }
   ],
   "source": [
    "result['movieId'][0]"
   ]
  },
  {
   "cell_type": "code",
   "execution_count": null,
   "metadata": {},
   "outputs": [],
   "source": []
  }
 ],
 "metadata": {
  "kernelspec": {
   "display_name": "Python 3.9.6 64-bit",
   "language": "python",
   "name": "python3"
  },
  "language_info": {
   "codemirror_mode": {
    "name": "ipython",
    "version": 3
   },
   "file_extension": ".py",
   "mimetype": "text/x-python",
   "name": "python",
   "nbconvert_exporter": "python",
   "pygments_lexer": "ipython3",
   "version": "3.9.6"
  },
  "orig_nbformat": 4,
  "vscode": {
   "interpreter": {
    "hash": "31f2aee4e71d21fbe5cf8b01ff0e069b9275f58929596ceb00d14d90e3e16cd6"
   }
  }
 },
 "nbformat": 4,
 "nbformat_minor": 2
}
