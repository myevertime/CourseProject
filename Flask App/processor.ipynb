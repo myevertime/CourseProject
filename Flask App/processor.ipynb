{
 "cells": [
  {
   "cell_type": "code",
   "execution_count": 1,
   "metadata": {},
   "outputs": [],
   "source": [
    "from CF import similar_5movies\n",
    "from knowledge_graph import knowledge_graph\n",
    "from searcher import search"
   ]
  },
  {
   "cell_type": "code",
   "execution_count": 41,
   "metadata": {},
   "outputs": [],
   "source": [
    "def processor(keyword=''):\n",
    "\n",
    "    import pandas as pd\n",
    "\n",
    "    search_result = search(keyword)\n",
    "\n",
    "    metadata = pd.read_csv(\"output_rendered.csv\")\n",
    "\n",
    "    ##### Search Results\n",
    "    results = []\n",
    "    for i in range(len(search_result)):\n",
    "        result = {}\n",
    "        result['title'] = metadata.loc[metadata['movieId'] == search_result[i], 'title'].item()\n",
    "        result['genres'] = metadata.loc[metadata['movieId'] == search_result[i], 'genres'].item()\n",
    "        result['director'] = metadata.loc[metadata['movieId'] == search_result[i], 'director'].item()\n",
    "        result['actors'] = metadata.loc[metadata['movieId'] == search_result[i], 'actors'].item()\n",
    "        results.append(result)\n",
    "\n",
    "    ##### Recommendation Results\n",
    "    ## Get MovieIDs for KG\n",
    "    tmdb_id = str(metadata.loc[metadata['movieId'] == search_result[0], 'tmdbId'].item())\n",
    "    imdb_id = str(metadata.loc[metadata['movieId'] == search_result[0], 'imdbId'].item())\n",
    "\n",
    "    ## Get Top5 movie IDs from each model\n",
    "    CF_reco = similar_5movies(search_result[0])\n",
    "    kg_reco = knowledge_graph(tmdb_id, imdb_id)\n",
    "    \n",
    "    ## Map KG recommendation results to MovieID\n",
    "    kg_reco_pro = []\n",
    "    for i in kg_reco:\n",
    "        if \"tt\" not in i:\n",
    "            check = metadata.loc[metadata['tmdbId'] == int(i.replace(\"tt\",\"\")), 'movieId']\n",
    "            if len(check) > 0: # If ID exists in output.csv\n",
    "                kg_reco_pro.append(metadata.loc[metadata['tmdbId'] == int(i), 'movieId'].item())\n",
    "        else:\n",
    "            check = metadata.loc[metadata['imdbId'] == int(i.replace(\"tt\",\"\")), 'movieId']\n",
    "            if len(check) > 0: # If ID exists in output.csv\n",
    "                kg_reco_pro.append(metadata.loc[metadata['imdbId'] == int(i.replace(\"tt\",\"\")), 'movieId'].item())\n",
    "\n",
    "    reco = list(CF_reco)\n",
    "    reco.extend(x for x in kg_reco_pro if x not in reco) # extend without duplicates\n",
    "\n",
    "    recommendations = []\n",
    "    for i in range(len(reco)):\n",
    "        result = {}\n",
    "        result['title'] = metadata.loc[metadata['movieId'] == reco[i], 'title'].item()\n",
    "        result['genres'] = metadata.loc[metadata['movieId'] == reco[i], 'genres'].item()\n",
    "        result['director'] = metadata.loc[metadata['movieId'] == reco[i], 'director'].item()\n",
    "        result['actors'] = metadata.loc[metadata['movieId'] == reco[i], 'actors'].item()\n",
    "        recommendations.append(result)\n",
    "\n",
    "    return results , recommendations"
   ]
  },
  {
   "cell_type": "code",
   "execution_count": 43,
   "metadata": {},
   "outputs": [
    {
     "name": "stderr",
     "output_type": "stream",
     "text": [
      "WARNING: /Users/1112718/Desktop/CourseProject/Flask App/CF.py:75: FutureWarning: The behavior of `series[i:j]` with an integer-dtype index is deprecated. In a future version, this will be treated as *label-based* indexing, consistent with e.g. `series[i]` lookups. To retain the old behavior, use `series.iloc[i:j]`. To get the future behavior, use `series.loc[i:j]`.\n",
      "  top_five = is_df[id].sort_values(ascending = False)[1:6] #[0] = movie\n",
      "\n"
     ]
    },
    {
     "name": "stdout",
     "output_type": "stream",
     "text": [
      "Similar 5 movies to 'id(2) = Jumanji (1995)' : [586, 367, 500, 377, 317]\n",
      "\n",
      "['tt0110763', 'tt0926207', 'tt0102057', 'tt0113484', 'tt0249577']\n"
     ]
    },
    {
     "data": {
      "text/plain": [
       "([{'title': 'Jumanji (1995)',\n",
       "   'genres': 'Adventure',\n",
       "   'director': 'Joe Johnston',\n",
       "   'actors': 'Robin Williams, Jonathan Hyde, Kirsten Dunst'},\n",
       "  {'title': 'Waiting to Exhale (1995)',\n",
       "   'genres': 'Comedy',\n",
       "   'director': 'Forest Whitaker',\n",
       "   'actors': 'Whitney Houston, Angela Bassett, Loretta Devine'},\n",
       "  {'title': 'Father of the Bride Part II (1995)',\n",
       "   'genres': 'Comedy',\n",
       "   'director': 'Charles Shyer',\n",
       "   'actors': 'Steve Martin, Diane Keaton, Martin Short'},\n",
       "  {'title': 'Heat (1995)',\n",
       "   'genres': 'Action',\n",
       "   'director': 'Michael Mann',\n",
       "   'actors': 'Al Pacino, Robert De Niro, Val Kilmer'},\n",
       "  {'title': 'Sabrina (1995)',\n",
       "   'genres': 'Comedy',\n",
       "   'director': 'Sydney Pollack',\n",
       "   'actors': 'Harrison Ford, Julia Ormond, Greg Kinnear'}],\n",
       " [{'title': 'Home Alone (1990)',\n",
       "   'genres': 'Children',\n",
       "   'director': 'Chris Columbus',\n",
       "   'actors': 'Macaulay Culkin, Joe Pesci, Daniel Stern'},\n",
       "  {'title': 'Mask, The (1994)',\n",
       "   'genres': 'Action',\n",
       "   'director': 'Chuck Russell',\n",
       "   'actors': 'Jim Carrey, Cameron Diaz, Nancy Fish'},\n",
       "  {'title': 'Mrs. Doubtfire (1993)',\n",
       "   'genres': 'Comedy',\n",
       "   'director': 'Chris Columbus',\n",
       "   'actors': 'Robin Williams, Sally Field, Pierce Brosnan'},\n",
       "  {'title': 'Speed (1994)',\n",
       "   'genres': 'Action',\n",
       "   'director': 'Jan de Bont',\n",
       "   'actors': 'Keanu Reeves, Dennis Hopper, Sandra Bullock'},\n",
       "  {'title': 'Santa Clause, The (1994)',\n",
       "   'genres': 'Comedy',\n",
       "   'director': 'John Pasquin',\n",
       "   'actors': 'Tim Allen, Judge Reinhold, Wendy Crewson'},\n",
       "  {'title': 'Pagemaster, The (1994)',\n",
       "   'genres': 'Action',\n",
       "   'director': 'Joe Johnston',\n",
       "   'actors': 'Macaulay Culkin, Christopher Lloyd, Patrick Stewart'},\n",
       "  {'title': 'Hook (1991)',\n",
       "   'genres': 'Adventure',\n",
       "   'director': 'Steven Spielberg',\n",
       "   'actors': 'Robin Williams, Dustin Hoffman, Julia Roberts'}])"
      ]
     },
     "execution_count": 43,
     "metadata": {},
     "output_type": "execute_result"
    }
   ],
   "source": [
    "processor()"
   ]
  },
  {
   "cell_type": "code",
   "execution_count": null,
   "metadata": {},
   "outputs": [],
   "source": []
  }
 ],
 "metadata": {
  "kernelspec": {
   "display_name": "Python 3.9.6 64-bit",
   "language": "python",
   "name": "python3"
  },
  "language_info": {
   "codemirror_mode": {
    "name": "ipython",
    "version": 3
   },
   "file_extension": ".py",
   "mimetype": "text/x-python",
   "name": "python",
   "nbconvert_exporter": "python",
   "pygments_lexer": "ipython3",
   "version": "3.9.6"
  },
  "orig_nbformat": 4,
  "vscode": {
   "interpreter": {
    "hash": "31f2aee4e71d21fbe5cf8b01ff0e069b9275f58929596ceb00d14d90e3e16cd6"
   }
  }
 },
 "nbformat": 4,
 "nbformat_minor": 2
}
